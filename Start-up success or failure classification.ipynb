{
 "cells": [
  {
   "cell_type": "code",
   "execution_count": 1,
   "id": "3736e667",
   "metadata": {},
   "outputs": [
    {
     "data": {
      "text/html": [
       "        <script type=\"text/javascript\">\n",
       "        window.PlotlyConfig = {MathJaxConfig: 'local'};\n",
       "        if (window.MathJax && window.MathJax.Hub && window.MathJax.Hub.Config) {window.MathJax.Hub.Config({SVG: {font: \"STIX-Web\"}});}\n",
       "        if (typeof require !== 'undefined') {\n",
       "        require.undef(\"plotly\");\n",
       "        requirejs.config({\n",
       "            paths: {\n",
       "                'plotly': ['https://cdn.plot.ly/plotly-2.12.1.min']\n",
       "            }\n",
       "        });\n",
       "        require(['plotly'], function(Plotly) {\n",
       "            window._Plotly = Plotly;\n",
       "        });\n",
       "        }\n",
       "        </script>\n",
       "        "
      ]
     },
     "metadata": {},
     "output_type": "display_data"
    }
   ],
   "source": [
    "import numpy as np\n",
    "import pandas as pd\n",
    "import matplotlib.pyplot as plt\n",
    "import seaborn as sns\n",
    "import missingno as msno\n",
    "import chart_studio.plotly as py\n",
    "import plotly.graph_objs as go\n",
    "from plotly.offline import download_plotlyjs, init_notebook_mode, plot, iplot\n",
    "%matplotlib inline\n",
    "\n",
    "init_notebook_mode(connected=True)"
   ]
  },
  {
   "cell_type": "code",
   "execution_count": 2,
   "id": "b3c3e2b8",
   "metadata": {},
   "outputs": [],
   "source": [
    "startUps = pd.read_csv('big_startup_secsees_dataset.csv')"
   ]
  },
  {
   "cell_type": "code",
   "execution_count": 3,
   "id": "d2d99306",
   "metadata": {},
   "outputs": [],
   "source": [
    "startUps = startUps.drop(['name','homepage_url'],axis=1)"
   ]
  },
  {
   "cell_type": "code",
   "execution_count": 4,
   "id": "a470be5f",
   "metadata": {},
   "outputs": [
    {
     "name": "stdout",
     "output_type": "stream",
     "text": [
      "<class 'pandas.core.frame.DataFrame'>\n",
      "RangeIndex: 66368 entries, 0 to 66367\n",
      "Data columns (total 12 columns):\n",
      " #   Column             Non-Null Count  Dtype \n",
      "---  ------             --------------  ----- \n",
      " 0   permalink          66368 non-null  object\n",
      " 1   category_list      63220 non-null  object\n",
      " 2   funding_total_usd  66368 non-null  object\n",
      " 3   status             66368 non-null  object\n",
      " 4   country_code       59410 non-null  object\n",
      " 5   state_code         57821 non-null  object\n",
      " 6   region             58338 non-null  object\n",
      " 7   city               58340 non-null  object\n",
      " 8   funding_rounds     66368 non-null  int64 \n",
      " 9   founded_at         51147 non-null  object\n",
      " 10  first_funding_at   66344 non-null  object\n",
      " 11  last_funding_at    66368 non-null  object\n",
      "dtypes: int64(1), object(11)\n",
      "memory usage: 6.1+ MB\n"
     ]
    },
    {
     "data": {
      "text/html": [
       "<div>\n",
       "<style scoped>\n",
       "    .dataframe tbody tr th:only-of-type {\n",
       "        vertical-align: middle;\n",
       "    }\n",
       "\n",
       "    .dataframe tbody tr th {\n",
       "        vertical-align: top;\n",
       "    }\n",
       "\n",
       "    .dataframe thead th {\n",
       "        text-align: right;\n",
       "    }\n",
       "</style>\n",
       "<table border=\"1\" class=\"dataframe\">\n",
       "  <thead>\n",
       "    <tr style=\"text-align: right;\">\n",
       "      <th></th>\n",
       "      <th>permalink</th>\n",
       "      <th>category_list</th>\n",
       "      <th>funding_total_usd</th>\n",
       "      <th>status</th>\n",
       "      <th>country_code</th>\n",
       "      <th>state_code</th>\n",
       "      <th>region</th>\n",
       "      <th>city</th>\n",
       "      <th>funding_rounds</th>\n",
       "      <th>founded_at</th>\n",
       "      <th>first_funding_at</th>\n",
       "      <th>last_funding_at</th>\n",
       "    </tr>\n",
       "  </thead>\n",
       "  <tbody>\n",
       "    <tr>\n",
       "      <th>0</th>\n",
       "      <td>/organization/-fame</td>\n",
       "      <td>Media</td>\n",
       "      <td>10000000</td>\n",
       "      <td>operating</td>\n",
       "      <td>IND</td>\n",
       "      <td>16</td>\n",
       "      <td>Mumbai</td>\n",
       "      <td>Mumbai</td>\n",
       "      <td>1</td>\n",
       "      <td>NaN</td>\n",
       "      <td>2015-01-05</td>\n",
       "      <td>2015-01-05</td>\n",
       "    </tr>\n",
       "    <tr>\n",
       "      <th>1</th>\n",
       "      <td>/organization/-qounter</td>\n",
       "      <td>Application Platforms|Real Time|Social Network...</td>\n",
       "      <td>700000</td>\n",
       "      <td>operating</td>\n",
       "      <td>USA</td>\n",
       "      <td>DE</td>\n",
       "      <td>DE - Other</td>\n",
       "      <td>Delaware City</td>\n",
       "      <td>2</td>\n",
       "      <td>2014-09-04</td>\n",
       "      <td>2014-03-01</td>\n",
       "      <td>2014-10-14</td>\n",
       "    </tr>\n",
       "    <tr>\n",
       "      <th>2</th>\n",
       "      <td>/organization/-the-one-of-them-inc-</td>\n",
       "      <td>Apps|Games|Mobile</td>\n",
       "      <td>3406878</td>\n",
       "      <td>operating</td>\n",
       "      <td>NaN</td>\n",
       "      <td>NaN</td>\n",
       "      <td>NaN</td>\n",
       "      <td>NaN</td>\n",
       "      <td>1</td>\n",
       "      <td>NaN</td>\n",
       "      <td>2014-01-30</td>\n",
       "      <td>2014-01-30</td>\n",
       "    </tr>\n",
       "    <tr>\n",
       "      <th>3</th>\n",
       "      <td>/organization/0-6-com</td>\n",
       "      <td>Curated Web</td>\n",
       "      <td>2000000</td>\n",
       "      <td>operating</td>\n",
       "      <td>CHN</td>\n",
       "      <td>22</td>\n",
       "      <td>Beijing</td>\n",
       "      <td>Beijing</td>\n",
       "      <td>1</td>\n",
       "      <td>2007-01-01</td>\n",
       "      <td>2008-03-19</td>\n",
       "      <td>2008-03-19</td>\n",
       "    </tr>\n",
       "    <tr>\n",
       "      <th>4</th>\n",
       "      <td>/organization/004-technologies</td>\n",
       "      <td>Software</td>\n",
       "      <td>-</td>\n",
       "      <td>operating</td>\n",
       "      <td>USA</td>\n",
       "      <td>IL</td>\n",
       "      <td>Springfield, Illinois</td>\n",
       "      <td>Champaign</td>\n",
       "      <td>1</td>\n",
       "      <td>2010-01-01</td>\n",
       "      <td>2014-07-24</td>\n",
       "      <td>2014-07-24</td>\n",
       "    </tr>\n",
       "    <tr>\n",
       "      <th>...</th>\n",
       "      <td>...</td>\n",
       "      <td>...</td>\n",
       "      <td>...</td>\n",
       "      <td>...</td>\n",
       "      <td>...</td>\n",
       "      <td>...</td>\n",
       "      <td>...</td>\n",
       "      <td>...</td>\n",
       "      <td>...</td>\n",
       "      <td>...</td>\n",
       "      <td>...</td>\n",
       "      <td>...</td>\n",
       "    </tr>\n",
       "    <tr>\n",
       "      <th>66363</th>\n",
       "      <td>/organization/zznode-science-and-technology-co...</td>\n",
       "      <td>Enterprise Software</td>\n",
       "      <td>1587301</td>\n",
       "      <td>operating</td>\n",
       "      <td>CHN</td>\n",
       "      <td>22</td>\n",
       "      <td>Beijing</td>\n",
       "      <td>Beijing</td>\n",
       "      <td>1</td>\n",
       "      <td>NaN</td>\n",
       "      <td>2012-04-01</td>\n",
       "      <td>2012-04-01</td>\n",
       "    </tr>\n",
       "    <tr>\n",
       "      <th>66364</th>\n",
       "      <td>/organization/zzzzapp-com</td>\n",
       "      <td>Advertising|Mobile|Web Development|Wireless</td>\n",
       "      <td>114304</td>\n",
       "      <td>operating</td>\n",
       "      <td>HRV</td>\n",
       "      <td>15</td>\n",
       "      <td>Split</td>\n",
       "      <td>Split</td>\n",
       "      <td>4</td>\n",
       "      <td>2012-05-13</td>\n",
       "      <td>2011-11-01</td>\n",
       "      <td>2014-03-01</td>\n",
       "    </tr>\n",
       "    <tr>\n",
       "      <th>66365</th>\n",
       "      <td>/organization/Áeron</td>\n",
       "      <td>NaN</td>\n",
       "      <td>-</td>\n",
       "      <td>operating</td>\n",
       "      <td>NaN</td>\n",
       "      <td>NaN</td>\n",
       "      <td>NaN</td>\n",
       "      <td>NaN</td>\n",
       "      <td>1</td>\n",
       "      <td>2011-01-01</td>\n",
       "      <td>2014-08-01</td>\n",
       "      <td>2014-08-01</td>\n",
       "    </tr>\n",
       "    <tr>\n",
       "      <th>66366</th>\n",
       "      <td>/organization/Ôasys-2</td>\n",
       "      <td>Consumer Electronics|Internet of Things|Teleco...</td>\n",
       "      <td>18192</td>\n",
       "      <td>operating</td>\n",
       "      <td>USA</td>\n",
       "      <td>CA</td>\n",
       "      <td>SF Bay Area</td>\n",
       "      <td>San Francisco</td>\n",
       "      <td>1</td>\n",
       "      <td>2014-01-01</td>\n",
       "      <td>2015-01-01</td>\n",
       "      <td>2015-01-01</td>\n",
       "    </tr>\n",
       "    <tr>\n",
       "      <th>66367</th>\n",
       "      <td>/organization/İnovatiff-reklam-ve-tanıtım-hizm...</td>\n",
       "      <td>Consumer Goods|E-Commerce|Internet</td>\n",
       "      <td>14851</td>\n",
       "      <td>operating</td>\n",
       "      <td>NaN</td>\n",
       "      <td>NaN</td>\n",
       "      <td>NaN</td>\n",
       "      <td>NaN</td>\n",
       "      <td>1</td>\n",
       "      <td>NaN</td>\n",
       "      <td>2013-10-01</td>\n",
       "      <td>2013-10-01</td>\n",
       "    </tr>\n",
       "  </tbody>\n",
       "</table>\n",
       "<p>66368 rows × 12 columns</p>\n",
       "</div>"
      ],
      "text/plain": [
       "                                               permalink  \\\n",
       "0                                    /organization/-fame   \n",
       "1                                 /organization/-qounter   \n",
       "2                    /organization/-the-one-of-them-inc-   \n",
       "3                                  /organization/0-6-com   \n",
       "4                         /organization/004-technologies   \n",
       "...                                                  ...   \n",
       "66363  /organization/zznode-science-and-technology-co...   \n",
       "66364                          /organization/zzzzapp-com   \n",
       "66365                                /organization/Áeron   \n",
       "66366                              /organization/Ôasys-2   \n",
       "66367  /organization/İnovatiff-reklam-ve-tanıtım-hizm...   \n",
       "\n",
       "                                           category_list funding_total_usd  \\\n",
       "0                                                  Media          10000000   \n",
       "1      Application Platforms|Real Time|Social Network...            700000   \n",
       "2                                      Apps|Games|Mobile           3406878   \n",
       "3                                            Curated Web           2000000   \n",
       "4                                               Software                 -   \n",
       "...                                                  ...               ...   \n",
       "66363                                Enterprise Software           1587301   \n",
       "66364        Advertising|Mobile|Web Development|Wireless            114304   \n",
       "66365                                                NaN                 -   \n",
       "66366  Consumer Electronics|Internet of Things|Teleco...             18192   \n",
       "66367                 Consumer Goods|E-Commerce|Internet             14851   \n",
       "\n",
       "          status country_code state_code                 region  \\\n",
       "0      operating          IND         16                 Mumbai   \n",
       "1      operating          USA         DE             DE - Other   \n",
       "2      operating          NaN        NaN                    NaN   \n",
       "3      operating          CHN         22                Beijing   \n",
       "4      operating          USA         IL  Springfield, Illinois   \n",
       "...          ...          ...        ...                    ...   \n",
       "66363  operating          CHN         22                Beijing   \n",
       "66364  operating          HRV         15                  Split   \n",
       "66365  operating          NaN        NaN                    NaN   \n",
       "66366  operating          USA         CA            SF Bay Area   \n",
       "66367  operating          NaN        NaN                    NaN   \n",
       "\n",
       "                city  funding_rounds  founded_at first_funding_at  \\\n",
       "0             Mumbai               1         NaN       2015-01-05   \n",
       "1      Delaware City               2  2014-09-04       2014-03-01   \n",
       "2                NaN               1         NaN       2014-01-30   \n",
       "3            Beijing               1  2007-01-01       2008-03-19   \n",
       "4          Champaign               1  2010-01-01       2014-07-24   \n",
       "...              ...             ...         ...              ...   \n",
       "66363        Beijing               1         NaN       2012-04-01   \n",
       "66364          Split               4  2012-05-13       2011-11-01   \n",
       "66365            NaN               1  2011-01-01       2014-08-01   \n",
       "66366  San Francisco               1  2014-01-01       2015-01-01   \n",
       "66367            NaN               1         NaN       2013-10-01   \n",
       "\n",
       "      last_funding_at  \n",
       "0          2015-01-05  \n",
       "1          2014-10-14  \n",
       "2          2014-01-30  \n",
       "3          2008-03-19  \n",
       "4          2014-07-24  \n",
       "...               ...  \n",
       "66363      2012-04-01  \n",
       "66364      2014-03-01  \n",
       "66365      2014-08-01  \n",
       "66366      2015-01-01  \n",
       "66367      2013-10-01  \n",
       "\n",
       "[66368 rows x 12 columns]"
      ]
     },
     "execution_count": 4,
     "metadata": {},
     "output_type": "execute_result"
    }
   ],
   "source": [
    "startUps.info()\n",
    "startUps"
   ]
  },
  {
   "cell_type": "code",
   "execution_count": 5,
   "id": "a2e57684",
   "metadata": {},
   "outputs": [],
   "source": [
    "startUps[['category_list','status','country_code','founded_at','first_funding_at','last_funding_at']] = startUps[['category_list','status','country_code','founded_at','first_funding_at','last_funding_at']].astype('string')"
   ]
  },
  {
   "cell_type": "code",
   "execution_count": 6,
   "id": "0798a494",
   "metadata": {},
   "outputs": [],
   "source": [
    "def make_float(num):\n",
    "    if num == '-':\n",
    "        num = 0\n",
    "    return float(num)\n",
    "\n",
    "startUps['funding_total_usd'] = startUps['funding_total_usd'].apply(make_float)"
   ]
  },
  {
   "cell_type": "code",
   "execution_count": 7,
   "id": "85e02b16",
   "metadata": {},
   "outputs": [
    {
     "name": "stdout",
     "output_type": "stream",
     "text": [
      "<class 'pandas.core.frame.DataFrame'>\n",
      "RangeIndex: 66368 entries, 0 to 66367\n",
      "Data columns (total 12 columns):\n",
      " #   Column             Non-Null Count  Dtype  \n",
      "---  ------             --------------  -----  \n",
      " 0   permalink          66368 non-null  object \n",
      " 1   category_list      63220 non-null  string \n",
      " 2   funding_total_usd  66368 non-null  float64\n",
      " 3   status             66368 non-null  string \n",
      " 4   country_code       59410 non-null  string \n",
      " 5   state_code         57821 non-null  object \n",
      " 6   region             58338 non-null  object \n",
      " 7   city               58340 non-null  object \n",
      " 8   funding_rounds     66368 non-null  int64  \n",
      " 9   founded_at         51147 non-null  string \n",
      " 10  first_funding_at   66344 non-null  string \n",
      " 11  last_funding_at    66368 non-null  string \n",
      "dtypes: float64(1), int64(1), object(4), string(6)\n",
      "memory usage: 6.1+ MB\n"
     ]
    }
   ],
   "source": [
    "startUps.info()"
   ]
  },
  {
   "cell_type": "code",
   "execution_count": 8,
   "id": "7ce69819",
   "metadata": {},
   "outputs": [],
   "source": [
    "startUps = startUps.drop(['region','city'],axis=1)"
   ]
  },
  {
   "cell_type": "code",
   "execution_count": 9,
   "id": "49db852b",
   "metadata": {},
   "outputs": [
    {
     "data": {
      "text/plain": [
       "<AxesSubplot:>"
      ]
     },
     "execution_count": 9,
     "metadata": {},
     "output_type": "execute_result"
    },
    {
     "data": {
      "image/png": "[encoded data removed]",
      "text/plain": [
       "<Figure size 640x480 with 1 Axes>"
      ]
     },
     "metadata": {},
     "output_type": "display_data"
    }
   ],
   "source": [
    "sns.heatmap(startUps.isnull(),yticklabels=False,cbar=False,cmap='viridis')"
   ]
  },
  {
   "cell_type": "code",
   "execution_count": 10,
   "id": "eb2a0f2c",
   "metadata": {},
   "outputs": [],
   "source": [
    "startUps['founded_at'] = startUps['founded_at'].fillna(startUps['first_funding_at'])"
   ]
  },
  {
   "cell_type": "code",
   "execution_count": 11,
   "id": "29082f87",
   "metadata": {},
   "outputs": [
    {
     "data": {
      "text/plain": [
       "<AxesSubplot:>"
      ]
     },
     "execution_count": 11,
     "metadata": {},
     "output_type": "execute_result"
    },
    {
     "data": {
      "image/png": "[encoded data removed]",
      "text/plain": [
       "<Figure size 640x480 with 1 Axes>"
      ]
     },
     "metadata": {},
     "output_type": "display_data"
    }
   ],
   "source": [
    "sns.heatmap(startUps.isnull(),yticklabels=False,cbar=False,cmap='viridis')"
   ]
  },
  {
   "cell_type": "code",
   "execution_count": 12,
   "id": "387466d5",
   "metadata": {},
   "outputs": [
    {
     "data": {
      "text/plain": [
       "10122"
      ]
     },
     "execution_count": 12,
     "metadata": {},
     "output_type": "execute_result"
    }
   ],
   "source": [
    "startUps.isna().any(axis=1).sum()"
   ]
  },
  {
   "cell_type": "code",
   "execution_count": 13,
   "id": "e7a40587",
   "metadata": {},
   "outputs": [],
   "source": [
    "startUps = startUps[(startUps['country_code'].notna()) & (startUps['category_list'].notna())]"
   ]
  },
  {
   "cell_type": "code",
   "execution_count": 14,
   "id": "68171c1c",
   "metadata": {},
   "outputs": [
    {
     "data": {
      "text/plain": [
       "<AxesSubplot:>"
      ]
     },
     "execution_count": 14,
     "metadata": {},
     "output_type": "execute_result"
    },
    {
     "data": {
      "image/png": "[encoded data removed]",
      "text/plain": [
       "<Figure size 640x480 with 1 Axes>"
      ]
     },
     "metadata": {},
     "output_type": "display_data"
    }
   ],
   "source": [
    "sns.heatmap(startUps.isnull(),yticklabels=False,cbar=False,cmap='viridis')"
   ]
  },
  {
   "cell_type": "code",
   "execution_count": 15,
   "id": "a587733d",
   "metadata": {},
   "outputs": [],
   "source": [
    "startUps = startUps[startUps.country_code != 'operating']"
   ]
  },
  {
   "cell_type": "code",
   "execution_count": 16,
   "id": "302c3330",
   "metadata": {},
   "outputs": [
    {
     "data": {
      "text/html": [
       "<div>\n",
       "<style scoped>\n",
       "    .dataframe tbody tr th:only-of-type {\n",
       "        vertical-align: middle;\n",
       "    }\n",
       "\n",
       "    .dataframe tbody tr th {\n",
       "        vertical-align: top;\n",
       "    }\n",
       "\n",
       "    .dataframe thead th {\n",
       "        text-align: right;\n",
       "    }\n",
       "</style>\n",
       "<table border=\"1\" class=\"dataframe\">\n",
       "  <thead>\n",
       "    <tr style=\"text-align: right;\">\n",
       "      <th></th>\n",
       "      <th>country_code</th>\n",
       "      <th>count</th>\n",
       "    </tr>\n",
       "  </thead>\n",
       "  <tbody>\n",
       "    <tr>\n",
       "      <th>0</th>\n",
       "      <td>USA</td>\n",
       "      <td>36655</td>\n",
       "    </tr>\n",
       "    <tr>\n",
       "      <th>1</th>\n",
       "      <td>GBR</td>\n",
       "      <td>3599</td>\n",
       "    </tr>\n",
       "    <tr>\n",
       "      <th>2</th>\n",
       "      <td>CAN</td>\n",
       "      <td>1875</td>\n",
       "    </tr>\n",
       "    <tr>\n",
       "      <th>3</th>\n",
       "      <td>IND</td>\n",
       "      <td>1552</td>\n",
       "    </tr>\n",
       "    <tr>\n",
       "      <th>4</th>\n",
       "      <td>CHN</td>\n",
       "      <td>1502</td>\n",
       "    </tr>\n",
       "    <tr>\n",
       "      <th>...</th>\n",
       "      <td>...</td>\n",
       "      <td>...</td>\n",
       "    </tr>\n",
       "    <tr>\n",
       "      <th>132</th>\n",
       "      <td>SOM</td>\n",
       "      <td>1</td>\n",
       "    </tr>\n",
       "    <tr>\n",
       "      <th>133</th>\n",
       "      <td>SYC</td>\n",
       "      <td>1</td>\n",
       "    </tr>\n",
       "    <tr>\n",
       "      <th>134</th>\n",
       "      <td>OMN</td>\n",
       "      <td>1</td>\n",
       "    </tr>\n",
       "    <tr>\n",
       "      <th>135</th>\n",
       "      <td>HND</td>\n",
       "      <td>1</td>\n",
       "    </tr>\n",
       "    <tr>\n",
       "      <th>136</th>\n",
       "      <td>MAF</td>\n",
       "      <td>1</td>\n",
       "    </tr>\n",
       "  </tbody>\n",
       "</table>\n",
       "<p>137 rows × 2 columns</p>\n",
       "</div>"
      ],
      "text/plain": [
       "    country_code  count\n",
       "0            USA  36655\n",
       "1            GBR   3599\n",
       "2            CAN   1875\n",
       "3            IND   1552\n",
       "4            CHN   1502\n",
       "..           ...    ...\n",
       "132          SOM      1\n",
       "133          SYC      1\n",
       "134          OMN      1\n",
       "135          HND      1\n",
       "136          MAF      1\n",
       "\n",
       "[137 rows x 2 columns]"
      ]
     },
     "execution_count": 16,
     "metadata": {},
     "output_type": "execute_result"
    }
   ],
   "source": [
    "startUpsPerCountry = pd.DataFrame(startUps['country_code'].value_counts()).reset_index()\n",
    "startUpsPerCountry.rename(columns={\"index\": \"country_code\", \"country_code\": \"count\"}, inplace=True)\n",
    "startUpsPerCountry"
   ]
  },
  {
   "cell_type": "code",
   "execution_count": 17,
   "id": "703067d3",
   "metadata": {},
   "outputs": [
    {
     "data": {
      "application/vnd.plotly.v1+json": {
       "config": {
        "linkText": "Export to plot.ly",
        "plotlyServerURL": "https://plot.ly",
        "showLink": false
       },
       "data": [
        {
         "colorbar": {
          "title": {
           "text": "Count"
          }
         },
         "locationmode": "ISO-3",
         "locations": [
          "USA",
          "GBR",
          "CAN",
          "IND",
          "CHN",
          "FRA",
          "DEU",
          "ISR",
          "ESP",
          "AUS",
          "NLD",
          "RUS",
          "SGP",
          "BRA",
          "IRL",
          "SWE",
          "ITA",
          "JPN",
          "KOR",
          "CHL",
          "CHE",
          "DNK",
          "FIN",
          "BEL",
          "HKG",
          "ARG",
          "TUR",
          "POL",
          "MEX",
          "AUT",
          "NOR",
          "PRT",
          "IDN",
          "BGR",
          "NZL",
          "ARE",
          "ZAF",
          "EST",
          "MYS",
          "CZE",
          "PHL",
          "UKR",
          "COL",
          "TWN",
          "NGA",
          "HUN",
          "THA",
          "LVA",
          "PER",
          "LTU",
          "GRC",
          "KEN",
          "EGY",
          "ROM",
          "VNM",
          "LUX",
          "PAK",
          "JOR",
          "SVK",
          "ISL",
          "LBN",
          "SVN",
          "CYP",
          "URY",
          "UGA",
          "VEN",
          "GHA",
          "SRB",
          "CYM",
          "BGD",
          "CRI",
          "SAU",
          "TAN",
          "PAN",
          "MLT",
          "HRV",
          "ECU",
          "BMU",
          "MUS",
          "BLR",
          "BHR",
          "TTO",
          "GTM",
          "BWA",
          "MMR",
          "NPL",
          "AZE",
          "KHM",
          "RWA",
          "ARM",
          "MDA",
          "TUN",
          "MCO",
          "JAM",
          "ZWE",
          "CMR",
          "SLV",
          "LKA",
          "MKD",
          "DOM",
          "LAO",
          "GEO",
          "LIE",
          "GIB",
          "BAH",
          "PSE",
          "NIC",
          "ALB",
          "PRI",
          "ZMB",
          "MAR",
          "CIV",
          "BLZ",
          "KWT",
          "IRN",
          "KAZ",
          "QAT",
          "GGY",
          "BRN",
          "DZA",
          "KNA",
          "BRB",
          "SEN",
          "TGO",
          "UZB",
          "PRY",
          "DMA",
          "MOZ",
          "JEY",
          "MNE",
          "BLM",
          "GRD",
          "SOM",
          "SYC",
          "OMN",
          "HND",
          "MAF"
         ],
         "type": "choropleth",
         "z": [
          36655,
          3599,
          1875,
          1552,
          1502,
          1109,
          1035,
          943,
          737,
          485,
          472,
          452,
          443,
          434,
          434,
          427,
          392,
          376,
          342,
          331,
          323,
          285,
          275,
          202,
          202,
          185,
          174,
          147,
          141,
          129,
          126,
          106,
          103,
          100,
          99,
          89,
          89,
          83,
          81,
          67,
          64,
          58,
          57,
          54,
          50,
          50,
          50,
          44,
          44,
          42,
          41,
          37,
          36,
          35,
          34,
          32,
          31,
          30,
          29,
          23,
          23,
          23,
          20,
          16,
          15,
          14,
          13,
          12,
          12,
          11,
          11,
          9,
          9,
          8,
          8,
          8,
          7,
          7,
          6,
          6,
          5,
          5,
          5,
          4,
          4,
          4,
          4,
          3,
          3,
          3,
          3,
          3,
          3,
          3,
          3,
          3,
          3,
          3,
          3,
          3,
          3,
          3,
          3,
          2,
          2,
          2,
          2,
          2,
          2,
          2,
          2,
          2,
          2,
          2,
          1,
          1,
          1,
          1,
          1,
          1,
          1,
          1,
          1,
          1,
          1,
          1,
          1,
          1,
          1,
          1,
          1,
          1,
          1,
          1,
          1,
          1,
          1
         ]
        }
       ],
       "layout": {
        "geo": {
         "projection": {
          "type": "mercator"
         },
         "showframe": false
        },
        "template": {
         "data": {
          "bar": [
           {
            "error_x": {
             "color": "#2a3f5f"
            },
            "error_y": {
             "color": "#2a3f5f"
            },
            "marker": {
             "line": {
              "color": "#E5ECF6",
              "width": 0.5
             },
             "pattern": {
              "fillmode": "overlay",
              "size": 10,
              "solidity": 0.2
             }
            },
            "type": "bar"
           }
          ],
          "barpolar": [
           {
            "marker": {
             "line": {
              "color": "#E5ECF6",
              "width": 0.5
             },
             "pattern": {
              "fillmode": "overlay",
              "size": 10,
              "solidity": 0.2
             }
            },
            "type": "barpolar"
           }
          ],
          "carpet": [
           {
            "aaxis": {
             "endlinecolor": "#2a3f5f",
             "gridcolor": "white",
             "linecolor": "white",
             "minorgridcolor": "white",
             "startlinecolor": "#2a3f5f"
            },
            "baxis": {
             "endlinecolor": "#2a3f5f",
             "gridcolor": "white",
             "linecolor": "white",
             "minorgridcolor": "white",
             "startlinecolor": "#2a3f5f"
            },
            "type": "carpet"
           }
          ],
          "choropleth": [
           {
            "colorbar": {
             "outlinewidth": 0,
             "ticks": ""
            },
            "type": "choropleth"
           }
          ],
          "contour": [
           {
            "colorbar": {
             "outlinewidth": 0,
             "ticks": ""
            },
            "colorscale": [
             [
              0,
              "#0d0887"
             ],
             [
              0.1111111111111111,
              "#46039f"
             ],
             [
              0.2222222222222222,
              "#7201a8"
             ],
             [
              0.3333333333333333,
              "#9c179e"
             ],
             [
              0.4444444444444444,
              "#bd3786"
             ],
             [
              0.5555555555555556,
              "#d8576b"
             ],
             [
              0.6666666666666666,
              "#ed7953"
             ],
             [
              0.7777777777777778,
              "#fb9f3a"
             ],
             [
              0.8888888888888888,
              "#fdca26"
             ],
             [
              1,
              "#f0f921"
             ]
            ],
            "type": "contour"
           }
          ],
          "contourcarpet": [
           {
            "colorbar": {
             "outlinewidth": 0,
             "ticks": ""
            },
            "type": "contourcarpet"
           }
          ],
          "heatmap": [
           {
            "colorbar": {
             "outlinewidth": 0,
             "ticks": ""
            },
            "colorscale": [
             [
              0,
              "#0d0887"
             ],
             [
              0.1111111111111111,
              "#46039f"
             ],
             [
              0.2222222222222222,
              "#7201a8"
             ],
             [
              0.3333333333333333,
              "#9c179e"
             ],
             [
              0.4444444444444444,
              "#bd3786"
             ],
             [
              0.5555555555555556,
              "#d8576b"
             ],
             [
              0.6666666666666666,
              "#ed7953"
             ],
             [
              0.7777777777777778,
              "#fb9f3a"
             ],
             [
              0.8888888888888888,
              "#fdca26"
             ],
             [
              1,
              "#f0f921"
             ]
            ],
            "type": "heatmap"
           }
          ],
          "heatmapgl": [
           {
            "colorbar": {
             "outlinewidth": 0,
             "ticks": ""
            },
            "colorscale": [
             [
              0,
              "#0d0887"
             ],
             [
              0.1111111111111111,
              "#46039f"
             ],
             [
              0.2222222222222222,
              "#7201a8"
             ],
             [
              0.3333333333333333,
              "#9c179e"
             ],
             [
              0.4444444444444444,
              "#bd3786"
             ],
             [
              0.5555555555555556,
              "#d8576b"
             ],
             [
              0.6666666666666666,
              "#ed7953"
             ],
             [
              0.7777777777777778,
              "#fb9f3a"
             ],
             [
              0.8888888888888888,
              "#fdca26"
             ],
             [
              1,
              "#f0f921"
             ]
            ],
            "type": "heatmapgl"
           }
          ],
          "histogram": [
           {
            "marker": {
             "pattern": {
              "fillmode": "overlay",
              "size": 10,
              "solidity": 0.2
             }
            },
            "type": "histogram"
           }
          ],
          "histogram2d": [
           {
            "colorbar": {
             "outlinewidth": 0,
             "ticks": ""
            },
            "colorscale": [
             [
              0,
              "#0d0887"
             ],
             [
              0.1111111111111111,
              "#46039f"
             ],
             [
              0.2222222222222222,
              "#7201a8"
             ],
             [
              0.3333333333333333,
              "#9c179e"
             ],
             [
              0.4444444444444444,
              "#bd3786"
             ],
             [
              0.5555555555555556,
              "#d8576b"
             ],
             [
              0.6666666666666666,
              "#ed7953"
             ],
             [
              0.7777777777777778,
              "#fb9f3a"
             ],
             [
              0.8888888888888888,
              "#fdca26"
             ],
             [
              1,
              "#f0f921"
             ]
            ],
            "type": "histogram2d"
           }
          ],
          "histogram2dcontour": [
           {
            "colorbar": {
             "outlinewidth": 0,
             "ticks": ""
            },
            "colorscale": [
             [
              0,
              "#0d0887"
             ],
             [
              0.1111111111111111,
              "#46039f"
             ],
             [
              0.2222222222222222,
              "#7201a8"
             ],
             [
              0.3333333333333333,
              "#9c179e"
             ],
             [
              0.4444444444444444,
              "#bd3786"
             ],
             [
              0.5555555555555556,
              "#d8576b"
             ],
             [
              0.6666666666666666,
              "#ed7953"
             ],
             [
              0.7777777777777778,
              "#fb9f3a"
             ],
             [
              0.8888888888888888,
              "#fdca26"
             ],
             [
              1,
              "#f0f921"
             ]
            ],
            "type": "histogram2dcontour"
           }
          ],
          "mesh3d": [
           {
            "colorbar": {
             "outlinewidth": 0,
             "ticks": ""
            },
            "type": "mesh3d"
           }
          ],
          "parcoords": [
           {
            "line": {
             "colorbar": {
              "outlinewidth": 0,
              "ticks": ""
             }
            },
            "type": "parcoords"
           }
          ],
          "pie": [
           {
            "automargin": true,
            "type": "pie"
           }
          ],
          "scatter": [
           {
            "fillpattern": {
             "fillmode": "overlay",
             "size": 10,
             "solidity": 0.2
            },
            "type": "scatter"
           }
          ],
          "scatter3d": [
           {
            "line": {
             "colorbar": {
              "outlinewidth": 0,
              "ticks": ""
             }
            },
            "marker": {
             "colorbar": {
              "outlinewidth": 0,
              "ticks": ""
             }
            },
            "type": "scatter3d"
           }
          ],
          "scattercarpet": [
           {
            "marker": {
             "colorbar": {
              "outlinewidth": 0,
              "ticks": ""
             }
            },
            "type": "scattercarpet"
           }
          ],
          "scattergeo": [
           {
            "marker": {
             "colorbar": {
              "outlinewidth": 0,
              "ticks": ""
             }
            },
            "type": "scattergeo"
           }
          ],
          "scattergl": [
           {
            "marker": {
             "colorbar": {
              "outlinewidth": 0,
              "ticks": ""
             }
            },
            "type": "scattergl"
           }
          ],
          "scattermapbox": [
           {
            "marker": {
             "colorbar": {
              "outlinewidth": 0,
              "ticks": ""
             }
            },
            "type": "scattermapbox"
           }
          ],
          "scatterpolar": [
           {
            "marker": {
             "colorbar": {
              "outlinewidth": 0,
              "ticks": ""
             }
            },
            "type": "scatterpolar"
           }
          ],
          "scatterpolargl": [
           {
            "marker": {
             "colorbar": {
              "outlinewidth": 0,
              "ticks": ""
             }
            },
            "type": "scatterpolargl"
           }
          ],
          "scatterternary": [
           {
            "marker": {
             "colorbar": {
              "outlinewidth": 0,
              "ticks": ""
             }
            },
            "type": "scatterternary"
           }
          ],
          "surface": [
           {
            "colorbar": {
             "outlinewidth": 0,
             "ticks": ""
            },
            "colorscale": [
             [
              0,
              "#0d0887"
             ],
             [
              0.1111111111111111,
              "#46039f"
             ],
             [
              0.2222222222222222,
              "#7201a8"
             ],
             [
              0.3333333333333333,
              "#9c179e"
             ],
             [
              0.4444444444444444,
              "#bd3786"
             ],
             [
              0.5555555555555556,
              "#d8576b"
             ],
             [
              0.6666666666666666,
              "#ed7953"
             ],
             [
              0.7777777777777778,
              "#fb9f3a"
             ],
             [
              0.8888888888888888,
              "#fdca26"
             ],
             [
              1,
              "#f0f921"
             ]
            ],
            "type": "surface"
           }
          ],
          "table": [
           {
            "cells": {
             "fill": {
              "color": "#EBF0F8"
             },
             "line": {
              "color": "white"
             }
            },
            "header": {
             "fill": {
              "color": "#C8D4E3"
             },
             "line": {
              "color": "white"
             }
            },
            "type": "table"
           }
          ]
         },
         "layout": {
          "annotationdefaults": {
           "arrowcolor": "#2a3f5f",
           "arrowhead": 0,
           "arrowwidth": 1
          },
          "autotypenumbers": "strict",
          "coloraxis": {
           "colorbar": {
            "outlinewidth": 0,
            "ticks": ""
           }
          },
          "colorscale": {
           "diverging": [
            [
             0,
             "#8e0152"
            ],
            [
             0.1,
             "#c51b7d"
            ],
            [
             0.2,
             "#de77ae"
            ],
            [
             0.3,
             "#f1b6da"
            ],
            [
             0.4,
             "#fde0ef"
            ],
            [
             0.5,
             "#f7f7f7"
            ],
            [
             0.6,
             "#e6f5d0"
            ],
            [
             0.7,
             "#b8e186"
            ],
            [
             0.8,
             "#7fbc41"
            ],
            [
             0.9,
             "#4d9221"
            ],
            [
             1,
             "#276419"
            ]
           ],
           "sequential": [
            [
             0,
             "#0d0887"
            ],
            [
             0.1111111111111111,
             "#46039f"
            ],
            [
             0.2222222222222222,
             "#7201a8"
            ],
            [
             0.3333333333333333,
             "#9c179e"
            ],
            [
             0.4444444444444444,
             "#bd3786"
            ],
            [
             0.5555555555555556,
             "#d8576b"
            ],
            [
             0.6666666666666666,
             "#ed7953"
            ],
            [
             0.7777777777777778,
             "#fb9f3a"
            ],
            [
             0.8888888888888888,
             "#fdca26"
            ],
            [
             1,
             "#f0f921"
            ]
           ],
           "sequentialminus": [
            [
             0,
             "#0d0887"
            ],
            [
             0.1111111111111111,
             "#46039f"
            ],
            [
             0.2222222222222222,
             "#7201a8"
            ],
            [
             0.3333333333333333,
             "#9c179e"
            ],
            [
             0.4444444444444444,
             "#bd3786"
            ],
            [
             0.5555555555555556,
             "#d8576b"
            ],
            [
             0.6666666666666666,
             "#ed7953"
            ],
            [
             0.7777777777777778,
             "#fb9f3a"
            ],
            [
             0.8888888888888888,
             "#fdca26"
            ],
            [
             1,
             "#f0f921"
            ]
           ]
          },
          "colorway": [
           "#636efa",
           "#EF553B",
           "#00cc96",
           "#ab63fa",
           "#FFA15A",
           "#19d3f3",
           "#FF6692",
           "#B6E880",
           "#FF97FF",
           "#FECB52"
          ],
          "font": {
           "color": "#2a3f5f"
          },
          "geo": {
           "bgcolor": "white",
           "lakecolor": "white",
           "landcolor": "#E5ECF6",
           "showlakes": true,
           "showland": true,
           "subunitcolor": "white"
          },
          "hoverlabel": {
           "align": "left"
          },
          "hovermode": "closest",
          "mapbox": {
           "style": "light"
          },
          "paper_bgcolor": "white",
          "plot_bgcolor": "#E5ECF6",
          "polar": {
           "angularaxis": {
            "gridcolor": "white",
            "linecolor": "white",
            "ticks": ""
           },
           "bgcolor": "#E5ECF6",
           "radialaxis": {
            "gridcolor": "white",
            "linecolor": "white",
            "ticks": ""
           }
          },
          "scene": {
           "xaxis": {
            "backgroundcolor": "#E5ECF6",
            "gridcolor": "white",
            "gridwidth": 2,
            "linecolor": "white",
            "showbackground": true,
            "ticks": "",
            "zerolinecolor": "white"
           },
           "yaxis": {
            "backgroundcolor": "#E5ECF6",
            "gridcolor": "white",
            "gridwidth": 2,
            "linecolor": "white",
            "showbackground": true,
            "ticks": "",
            "zerolinecolor": "white"
           },
           "zaxis": {
            "backgroundcolor": "#E5ECF6",
            "gridcolor": "white",
            "gridwidth": 2,
            "linecolor": "white",
            "showbackground": true,
            "ticks": "",
            "zerolinecolor": "white"
           }
          },
          "shapedefaults": {
           "line": {
            "color": "#2a3f5f"
           }
          },
          "ternary": {
           "aaxis": {
            "gridcolor": "white",
            "linecolor": "white",
            "ticks": ""
           },
           "baxis": {
            "gridcolor": "white",
            "linecolor": "white",
            "ticks": ""
           },
           "bgcolor": "#E5ECF6",
           "caxis": {
            "gridcolor": "white",
            "linecolor": "white",
            "ticks": ""
           }
          },
          "title": {
           "x": 0.05
          },
          "xaxis": {
           "automargin": true,
           "gridcolor": "white",
           "linecolor": "white",
           "ticks": "",
           "title": {
            "standoff": 15
           },
           "zerolinecolor": "white",
           "zerolinewidth": 2
          },
          "yaxis": {
           "automargin": true,
           "gridcolor": "white",
           "linecolor": "white",
           "ticks": "",
           "title": {
            "standoff": 15
           },
           "zerolinecolor": "white",
           "zerolinewidth": 2
          }
         }
        },
        "title": {
         "text": "StartUps per Country"
        }
       }
      },
      "text/html": [
       "<div>                            <div id=\"f06963e9-7ce1-4ebe-bb09-a86098580485\" class=\"plotly-graph-div\" style=\"height:525px; width:100%;\"></div>            <script type=\"text/javascript\">                require([\"plotly\"], function(Plotly) {                    window.PLOTLYENV=window.PLOTLYENV || {};                                    if (document.getElementById(\"f06963e9-7ce1-4ebe-bb09-a86098580485\")) {                    Plotly.newPlot(                        \"f06963e9-7ce1-4ebe-bb09-a86098580485\",                        [{\"colorbar\":{\"title\":{\"text\":\"Count\"}},\"locationmode\":\"ISO-3\",\"locations\":[\"USA\",\"GBR\",\"CAN\",\"IND\",\"CHN\",\"FRA\",\"DEU\",\"ISR\",\"ESP\",\"AUS\",\"NLD\",\"RUS\",\"SGP\",\"BRA\",\"IRL\",\"SWE\",\"ITA\",\"JPN\",\"KOR\",\"CHL\",\"CHE\",\"DNK\",\"FIN\",\"BEL\",\"HKG\",\"ARG\",\"TUR\",\"POL\",\"MEX\",\"AUT\",\"NOR\",\"PRT\",\"IDN\",\"BGR\",\"NZL\",\"ARE\",\"ZAF\",\"EST\",\"MYS\",\"CZE\",\"PHL\",\"UKR\",\"COL\",\"TWN\",\"NGA\",\"HUN\",\"THA\",\"LVA\",\"PER\",\"LTU\",\"GRC\",\"KEN\",\"EGY\",\"ROM\",\"VNM\",\"LUX\",\"PAK\",\"JOR\",\"SVK\",\"ISL\",\"LBN\",\"SVN\",\"CYP\",\"URY\",\"UGA\",\"VEN\",\"GHA\",\"SRB\",\"CYM\",\"BGD\",\"CRI\",\"SAU\",\"TAN\",\"PAN\",\"MLT\",\"HRV\",\"ECU\",\"BMU\",\"MUS\",\"BLR\",\"BHR\",\"TTO\",\"GTM\",\"BWA\",\"MMR\",\"NPL\",\"AZE\",\"KHM\",\"RWA\",\"ARM\",\"MDA\",\"TUN\",\"MCO\",\"JAM\",\"ZWE\",\"CMR\",\"SLV\",\"LKA\",\"MKD\",\"DOM\",\"LAO\",\"GEO\",\"LIE\",\"GIB\",\"BAH\",\"PSE\",\"NIC\",\"ALB\",\"PRI\",\"ZMB\",\"MAR\",\"CIV\",\"BLZ\",\"KWT\",\"IRN\",\"KAZ\",\"QAT\",\"GGY\",\"BRN\",\"DZA\",\"KNA\",\"BRB\",\"SEN\",\"TGO\",\"UZB\",\"PRY\",\"DMA\",\"MOZ\",\"JEY\",\"MNE\",\"BLM\",\"GRD\",\"SOM\",\"SYC\",\"OMN\",\"HND\",\"MAF\"],\"z\":[36655,3599,1875,1552,1502,1109,1035,943,737,485,472,452,443,434,434,427,392,376,342,331,323,285,275,202,202,185,174,147,141,129,126,106,103,100,99,89,89,83,81,67,64,58,57,54,50,50,50,44,44,42,41,37,36,35,34,32,31,30,29,23,23,23,20,16,15,14,13,12,12,11,11,9,9,8,8,8,7,7,6,6,5,5,5,4,4,4,4,3,3,3,3,3,3,3,3,3,3,3,3,3,3,3,3,2,2,2,2,2,2,2,2,2,2,2,1,1,1,1,1,1,1,1,1,1,1,1,1,1,1,1,1,1,1,1,1,1,1],\"type\":\"choropleth\"}],                        {\"geo\":{\"projection\":{\"type\":\"mercator\"},\"showframe\":false},\"title\":{\"text\":\"StartUps per Country\"},\"template\":{\"data\":{\"histogram2dcontour\":[{\"type\":\"histogram2dcontour\",\"colorbar\":{\"outlinewidth\":0,\"ticks\":\"\"},\"colorscale\":[[0.0,\"#0d0887\"],[0.1111111111111111,\"#46039f\"],[0.2222222222222222,\"#7201a8\"],[0.3333333333333333,\"#9c179e\"],[0.4444444444444444,\"#bd3786\"],[0.5555555555555556,\"#d8576b\"],[0.6666666666666666,\"#ed7953\"],[0.7777777777777778,\"#fb9f3a\"],[0.8888888888888888,\"#fdca26\"],[1.0,\"#f0f921\"]]}],\"choropleth\":[{\"type\":\"choropleth\",\"colorbar\":{\"outlinewidth\":0,\"ticks\":\"\"}}],\"histogram2d\":[{\"type\":\"histogram2d\",\"colorbar\":{\"outlinewidth\":0,\"ticks\":\"\"},\"colorscale\":[[0.0,\"#0d0887\"],[0.1111111111111111,\"#46039f\"],[0.2222222222222222,\"#7201a8\"],[0.3333333333333333,\"#9c179e\"],[0.4444444444444444,\"#bd3786\"],[0.5555555555555556,\"#d8576b\"],[0.6666666666666666,\"#ed7953\"],[0.7777777777777778,\"#fb9f3a\"],[0.8888888888888888,\"#fdca26\"],[1.0,\"#f0f921\"]]}],\"heatmap\":[{\"type\":\"heatmap\",\"colorbar\":{\"outlinewidth\":0,\"ticks\":\"\"},\"colorscale\":[[0.0,\"#0d0887\"],[0.1111111111111111,\"#46039f\"],[0.2222222222222222,\"#7201a8\"],[0.3333333333333333,\"#9c179e\"],[0.4444444444444444,\"#bd3786\"],[0.5555555555555556,\"#d8576b\"],[0.6666666666666666,\"#ed7953\"],[0.7777777777777778,\"#fb9f3a\"],[0.8888888888888888,\"#fdca26\"],[1.0,\"#f0f921\"]]}],\"heatmapgl\":[{\"type\":\"heatmapgl\",\"colorbar\":{\"outlinewidth\":0,\"ticks\":\"\"},\"colorscale\":[[0.0,\"#0d0887\"],[0.1111111111111111,\"#46039f\"],[0.2222222222222222,\"#7201a8\"],[0.3333333333333333,\"#9c179e\"],[0.4444444444444444,\"#bd3786\"],[0.5555555555555556,\"#d8576b\"],[0.6666666666666666,\"#ed7953\"],[0.7777777777777778,\"#fb9f3a\"],[0.8888888888888888,\"#fdca26\"],[1.0,\"#f0f921\"]]}],\"contourcarpet\":[{\"type\":\"contourcarpet\",\"colorbar\":{\"outlinewidth\":0,\"ticks\":\"\"}}],\"contour\":[{\"type\":\"contour\",\"colorbar\":{\"outlinewidth\":0,\"ticks\":\"\"},\"colorscale\":[[0.0,\"#0d0887\"],[0.1111111111111111,\"#46039f\"],[0.2222222222222222,\"#7201a8\"],[0.3333333333333333,\"#9c179e\"],[0.4444444444444444,\"#bd3786\"],[0.5555555555555556,\"#d8576b\"],[0.6666666666666666,\"#ed7953\"],[0.7777777777777778,\"#fb9f3a\"],[0.8888888888888888,\"#fdca26\"],[1.0,\"#f0f921\"]]}],\"surface\":[{\"type\":\"surface\",\"colorbar\":{\"outlinewidth\":0,\"ticks\":\"\"},\"colorscale\":[[0.0,\"#0d0887\"],[0.1111111111111111,\"#46039f\"],[0.2222222222222222,\"#7201a8\"],[0.3333333333333333,\"#9c179e\"],[0.4444444444444444,\"#bd3786\"],[0.5555555555555556,\"#d8576b\"],[0.6666666666666666,\"#ed7953\"],[0.7777777777777778,\"#fb9f3a\"],[0.8888888888888888,\"#fdca26\"],[1.0,\"#f0f921\"]]}],\"mesh3d\":[{\"type\":\"mesh3d\",\"colorbar\":{\"outlinewidth\":0,\"ticks\":\"\"}}],\"scatter\":[{\"fillpattern\":{\"fillmode\":\"overlay\",\"size\":10,\"solidity\":0.2},\"type\":\"scatter\"}],\"parcoords\":[{\"type\":\"parcoords\",\"line\":{\"colorbar\":{\"outlinewidth\":0,\"ticks\":\"\"}}}],\"scatterpolargl\":[{\"type\":\"scatterpolargl\",\"marker\":{\"colorbar\":{\"outlinewidth\":0,\"ticks\":\"\"}}}],\"bar\":[{\"error_x\":{\"color\":\"#2a3f5f\"},\"error_y\":{\"color\":\"#2a3f5f\"},\"marker\":{\"line\":{\"color\":\"#E5ECF6\",\"width\":0.5},\"pattern\":{\"fillmode\":\"overlay\",\"size\":10,\"solidity\":0.2}},\"type\":\"bar\"}],\"scattergeo\":[{\"type\":\"scattergeo\",\"marker\":{\"colorbar\":{\"outlinewidth\":0,\"ticks\":\"\"}}}],\"scatterpolar\":[{\"type\":\"scatterpolar\",\"marker\":{\"colorbar\":{\"outlinewidth\":0,\"ticks\":\"\"}}}],\"histogram\":[{\"marker\":{\"pattern\":{\"fillmode\":\"overlay\",\"size\":10,\"solidity\":0.2}},\"type\":\"histogram\"}],\"scattergl\":[{\"type\":\"scattergl\",\"marker\":{\"colorbar\":{\"outlinewidth\":0,\"ticks\":\"\"}}}],\"scatter3d\":[{\"type\":\"scatter3d\",\"line\":{\"colorbar\":{\"outlinewidth\":0,\"ticks\":\"\"}},\"marker\":{\"colorbar\":{\"outlinewidth\":0,\"ticks\":\"\"}}}],\"scattermapbox\":[{\"type\":\"scattermapbox\",\"marker\":{\"colorbar\":{\"outlinewidth\":0,\"ticks\":\"\"}}}],\"scatterternary\":[{\"type\":\"scatterternary\",\"marker\":{\"colorbar\":{\"outlinewidth\":0,\"ticks\":\"\"}}}],\"scattercarpet\":[{\"type\":\"scattercarpet\",\"marker\":{\"colorbar\":{\"outlinewidth\":0,\"ticks\":\"\"}}}],\"carpet\":[{\"aaxis\":{\"endlinecolor\":\"#2a3f5f\",\"gridcolor\":\"white\",\"linecolor\":\"white\",\"minorgridcolor\":\"white\",\"startlinecolor\":\"#2a3f5f\"},\"baxis\":{\"endlinecolor\":\"#2a3f5f\",\"gridcolor\":\"white\",\"linecolor\":\"white\",\"minorgridcolor\":\"white\",\"startlinecolor\":\"#2a3f5f\"},\"type\":\"carpet\"}],\"table\":[{\"cells\":{\"fill\":{\"color\":\"#EBF0F8\"},\"line\":{\"color\":\"white\"}},\"header\":{\"fill\":{\"color\":\"#C8D4E3\"},\"line\":{\"color\":\"white\"}},\"type\":\"table\"}],\"barpolar\":[{\"marker\":{\"line\":{\"color\":\"#E5ECF6\",\"width\":0.5},\"pattern\":{\"fillmode\":\"overlay\",\"size\":10,\"solidity\":0.2}},\"type\":\"barpolar\"}],\"pie\":[{\"automargin\":true,\"type\":\"pie\"}]},\"layout\":{\"autotypenumbers\":\"strict\",\"colorway\":[\"#636efa\",\"#EF553B\",\"#00cc96\",\"#ab63fa\",\"#FFA15A\",\"#19d3f3\",\"#FF6692\",\"#B6E880\",\"#FF97FF\",\"#FECB52\"],\"font\":{\"color\":\"#2a3f5f\"},\"hovermode\":\"closest\",\"hoverlabel\":{\"align\":\"left\"},\"paper_bgcolor\":\"white\",\"plot_bgcolor\":\"#E5ECF6\",\"polar\":{\"bgcolor\":\"#E5ECF6\",\"angularaxis\":{\"gridcolor\":\"white\",\"linecolor\":\"white\",\"ticks\":\"\"},\"radialaxis\":{\"gridcolor\":\"white\",\"linecolor\":\"white\",\"ticks\":\"\"}},\"ternary\":{\"bgcolor\":\"#E5ECF6\",\"aaxis\":{\"gridcolor\":\"white\",\"linecolor\":\"white\",\"ticks\":\"\"},\"baxis\":{\"gridcolor\":\"white\",\"linecolor\":\"white\",\"ticks\":\"\"},\"caxis\":{\"gridcolor\":\"white\",\"linecolor\":\"white\",\"ticks\":\"\"}},\"coloraxis\":{\"colorbar\":{\"outlinewidth\":0,\"ticks\":\"\"}},\"colorscale\":{\"sequential\":[[0.0,\"#0d0887\"],[0.1111111111111111,\"#46039f\"],[0.2222222222222222,\"#7201a8\"],[0.3333333333333333,\"#9c179e\"],[0.4444444444444444,\"#bd3786\"],[0.5555555555555556,\"#d8576b\"],[0.6666666666666666,\"#ed7953\"],[0.7777777777777778,\"#fb9f3a\"],[0.8888888888888888,\"#fdca26\"],[1.0,\"#f0f921\"]],\"sequentialminus\":[[0.0,\"#0d0887\"],[0.1111111111111111,\"#46039f\"],[0.2222222222222222,\"#7201a8\"],[0.3333333333333333,\"#9c179e\"],[0.4444444444444444,\"#bd3786\"],[0.5555555555555556,\"#d8576b\"],[0.6666666666666666,\"#ed7953\"],[0.7777777777777778,\"#fb9f3a\"],[0.8888888888888888,\"#fdca26\"],[1.0,\"#f0f921\"]],\"diverging\":[[0,\"#8e0152\"],[0.1,\"#c51b7d\"],[0.2,\"#de77ae\"],[0.3,\"#f1b6da\"],[0.4,\"#fde0ef\"],[0.5,\"#f7f7f7\"],[0.6,\"#e6f5d0\"],[0.7,\"#b8e186\"],[0.8,\"#7fbc41\"],[0.9,\"#4d9221\"],[1,\"#276419\"]]},\"xaxis\":{\"gridcolor\":\"white\",\"linecolor\":\"white\",\"ticks\":\"\",\"title\":{\"standoff\":15},\"zerolinecolor\":\"white\",\"automargin\":true,\"zerolinewidth\":2},\"yaxis\":{\"gridcolor\":\"white\",\"linecolor\":\"white\",\"ticks\":\"\",\"title\":{\"standoff\":15},\"zerolinecolor\":\"white\",\"automargin\":true,\"zerolinewidth\":2},\"scene\":{\"xaxis\":{\"backgroundcolor\":\"#E5ECF6\",\"gridcolor\":\"white\",\"linecolor\":\"white\",\"showbackground\":true,\"ticks\":\"\",\"zerolinecolor\":\"white\",\"gridwidth\":2},\"yaxis\":{\"backgroundcolor\":\"#E5ECF6\",\"gridcolor\":\"white\",\"linecolor\":\"white\",\"showbackground\":true,\"ticks\":\"\",\"zerolinecolor\":\"white\",\"gridwidth\":2},\"zaxis\":{\"backgroundcolor\":\"#E5ECF6\",\"gridcolor\":\"white\",\"linecolor\":\"white\",\"showbackground\":true,\"ticks\":\"\",\"zerolinecolor\":\"white\",\"gridwidth\":2}},\"shapedefaults\":{\"line\":{\"color\":\"#2a3f5f\"}},\"annotationdefaults\":{\"arrowcolor\":\"#2a3f5f\",\"arrowhead\":0,\"arrowwidth\":1},\"geo\":{\"bgcolor\":\"white\",\"landcolor\":\"#E5ECF6\",\"subunitcolor\":\"white\",\"showland\":true,\"showlakes\":true,\"lakecolor\":\"white\"},\"title\":{\"x\":0.05},\"mapbox\":{\"style\":\"light\"}}}},                        {\"responsive\": true}                    ).then(function(){\n",
       "                            \n",
       "var gd = document.getElementById('f06963e9-7ce1-4ebe-bb09-a86098580485');\n",
       "var x = new MutationObserver(function (mutations, observer) {{\n",
       "        var display = window.getComputedStyle(gd).display;\n",
       "        if (!display || display === 'none') {{\n",
       "            console.log([gd, 'removed!']);\n",
       "            Plotly.purge(gd);\n",
       "            observer.disconnect();\n",
       "        }}\n",
       "}});\n",
       "\n",
       "// Listen for the removal of the full notebook cells\n",
       "var notebookContainer = gd.closest('#notebook-container');\n",
       "if (notebookContainer) {{\n",
       "    x.observe(notebookContainer, {childList: true});\n",
       "}}\n",
       "\n",
       "// Listen for the clearing of the current output cell\n",
       "var outputEl = gd.closest('.output');\n",
       "if (outputEl) {{\n",
       "    x.observe(outputEl, {childList: true});\n",
       "}}\n",
       "\n",
       "                        })                };                });            </script>        </div>"
      ]
     },
     "metadata": {},
     "output_type": "display_data"
    }
   ],
   "source": [
    "country_density = dict(\n",
    "                    type = 'choropleth',\n",
    "                    locations = startUpsPerCountry['country_code'],\n",
    "                    locationmode = 'ISO-3',\n",
    "                    z = startUpsPerCountry['count'],\n",
    "                    colorbar = {'title':'Count'}\n",
    ")\n",
    "layout = dict(\n",
    "    title = 'StartUps per Country',\n",
    "    geo = dict(\n",
    "        showframe = False, projection = {'type':'mercator'}\n",
    "    )\n",
    ")\n",
    "choromap = go.Figure(data = [country_density],layout = layout)\n",
    "iplot(choromap,validate=False)"
   ]
  },
  {
   "cell_type": "code",
   "execution_count": 18,
   "id": "4ba98d8c",
   "metadata": {},
   "outputs": [
    {
     "data": {
      "image/png": "[encoded data removed]",
      "text/plain": [
       "<Figure size 2000x400 with 1 Axes>"
      ]
     },
     "metadata": {},
     "output_type": "display_data"
    }
   ],
   "source": [
    "plt.figure(figsize=(20,4))\n",
    "sns.countplot(x= startUps[(startUps['country_code'] == 'USA') & (startUps['status']!='operating')]['state_code'], hue = startUps['status'])\n",
    "plt.tight_layout()"
   ]
  },
  {
   "cell_type": "code",
   "execution_count": 19,
   "id": "eb83c0a0",
   "metadata": {},
   "outputs": [],
   "source": [
    "startUps = startUps.drop(['permalink','state_code'],axis=1)"
   ]
  },
  {
   "cell_type": "code",
   "execution_count": 20,
   "id": "0f49051b",
   "metadata": {},
   "outputs": [
    {
     "name": "stdout",
     "output_type": "stream",
     "text": [
      "<class 'pandas.core.frame.DataFrame'>\n",
      "Int64Index: 57804 entries, 0 to 66366\n",
      "Data columns (total 8 columns):\n",
      " #   Column             Non-Null Count  Dtype  \n",
      "---  ------             --------------  -----  \n",
      " 0   category_list      57804 non-null  string \n",
      " 1   funding_total_usd  57804 non-null  float64\n",
      " 2   status             57804 non-null  string \n",
      " 3   country_code       57804 non-null  string \n",
      " 4   funding_rounds     57804 non-null  int64  \n",
      " 5   founded_at         57801 non-null  string \n",
      " 6   first_funding_at   57782 non-null  string \n",
      " 7   last_funding_at    57804 non-null  string \n",
      "dtypes: float64(1), int64(1), string(6)\n",
      "memory usage: 4.0 MB\n"
     ]
    }
   ],
   "source": [
    "startUps.info()"
   ]
  },
  {
   "cell_type": "code",
   "execution_count": 21,
   "id": "2d853faa",
   "metadata": {},
   "outputs": [],
   "source": [
    "startUps[startUps['country_code'].map(len) != 3]\n",
    "startUps.dropna(inplace=True)"
   ]
  },
  {
   "cell_type": "code",
   "execution_count": 22,
   "id": "746b2c23",
   "metadata": {},
   "outputs": [],
   "source": [
    "startUps['founded_at'] = startUps['founded_at'].apply(lambda row: int(row.split('-')[0]))\n",
    "startUps['first_funding_at'] = startUps['first_funding_at'].apply(lambda row: int(row.split('-')[0]))\n",
    "startUps['last_funding_at'] = startUps['last_funding_at'].apply(lambda row: int(row.split('-')[0]))"
   ]
  },
  {
   "cell_type": "code",
   "execution_count": 23,
   "id": "31a8427b",
   "metadata": {},
   "outputs": [
    {
     "data": {
      "text/plain": [
       "array([2015, 2014, 2008, 2009, 2013, 2010, 2011, 2006, 2012, 2007, 2002,\n",
       "       2004, 2003, 2005, 1998, 2001, 1979, 1994, 2000, 1990, 1999, 1985,\n",
       "       1995, 1996, 1977, 1973, 1986, 1987, 1997, 1992, 1989, 1991, 1993,\n",
       "       1982, 1984, 1988, 2105], dtype=int64)"
      ]
     },
     "execution_count": 23,
     "metadata": {},
     "output_type": "execute_result"
    }
   ],
   "source": [
    "startUps['last_funding_at'].unique()"
   ]
  },
  {
   "cell_type": "code",
   "execution_count": 24,
   "id": "788019e1",
   "metadata": {},
   "outputs": [
    {
     "data": {
      "text/plain": [
       "array([2015, 2014, 2008, 2009, 2013, 2011, 2010, 2012, 2006, 2007, 2002,\n",
       "       2004, 2005, 2003, 1999, 1998, 2001, 2000, 1979, 1996, 1994, 1990,\n",
       "       1995, 1985, 1977, 1997, 1532, 1973, 1986, 1987, 1993, 1992, 1201,\n",
       "       1989, 1991, 1982, 1984, 1014, 1988, 1960], dtype=int64)"
      ]
     },
     "execution_count": 24,
     "metadata": {},
     "output_type": "execute_result"
    }
   ],
   "source": [
    "startUps['first_funding_at'].unique()"
   ]
  },
  {
   "cell_type": "code",
   "execution_count": 25,
   "id": "1b0af16f",
   "metadata": {},
   "outputs": [],
   "source": [
    "startUps = startUps[(startUps.first_funding_at != 1201) & (startUps.first_funding_at != 1014) & (startUps.first_funding_at != 1532) & (startUps.last_funding_at != 2105)]"
   ]
  },
  {
   "cell_type": "code",
   "execution_count": 26,
   "id": "a02d5356",
   "metadata": {},
   "outputs": [
    {
     "data": {
      "text/plain": [
       "array([2015, 2014, 2008, 2009, 2013, 2010, 2011, 2006, 2012, 2007, 2002,\n",
       "       2004, 2003, 2005, 1998, 2001, 1979, 1994, 2000, 1990, 1999, 1985,\n",
       "       1995, 1996, 1977, 1973, 1986, 1987, 1997, 1992, 1989, 1991, 1993,\n",
       "       1982, 1984, 1988], dtype=int64)"
      ]
     },
     "execution_count": 26,
     "metadata": {},
     "output_type": "execute_result"
    }
   ],
   "source": [
    "startUps['first_funding_at'].unique()\n",
    "startUps['last_funding_at'].unique()"
   ]
  },
  {
   "cell_type": "code",
   "execution_count": 27,
   "id": "0ec713bb",
   "metadata": {},
   "outputs": [],
   "source": [
    "startUps['years_of_funding'] = startUps['last_funding_at'] - startUps['first_funding_at'] + 1"
   ]
  },
  {
   "cell_type": "code",
   "execution_count": 28,
   "id": "4629b542",
   "metadata": {},
   "outputs": [],
   "source": [
    "startUps.drop(['first_funding_at','last_funding_at'],axis=1,inplace=True)"
   ]
  },
  {
   "cell_type": "code",
   "execution_count": 29,
   "id": "de699d69",
   "metadata": {},
   "outputs": [
    {
     "data": {
      "text/html": [
       "<div>\n",
       "<style scoped>\n",
       "    .dataframe tbody tr th:only-of-type {\n",
       "        vertical-align: middle;\n",
       "    }\n",
       "\n",
       "    .dataframe tbody tr th {\n",
       "        vertical-align: top;\n",
       "    }\n",
       "\n",
       "    .dataframe thead th {\n",
       "        text-align: right;\n",
       "    }\n",
       "</style>\n",
       "<table border=\"1\" class=\"dataframe\">\n",
       "  <thead>\n",
       "    <tr style=\"text-align: right;\">\n",
       "      <th></th>\n",
       "      <th>category_list</th>\n",
       "      <th>funding_total_usd</th>\n",
       "      <th>status</th>\n",
       "      <th>country_code</th>\n",
       "      <th>funding_rounds</th>\n",
       "      <th>founded_at</th>\n",
       "      <th>years_of_funding</th>\n",
       "    </tr>\n",
       "  </thead>\n",
       "  <tbody>\n",
       "    <tr>\n",
       "      <th>0</th>\n",
       "      <td>Media</td>\n",
       "      <td>10000000.0</td>\n",
       "      <td>operating</td>\n",
       "      <td>IND</td>\n",
       "      <td>1</td>\n",
       "      <td>2015</td>\n",
       "      <td>1</td>\n",
       "    </tr>\n",
       "    <tr>\n",
       "      <th>1</th>\n",
       "      <td>Application Platforms|Real Time|Social Network...</td>\n",
       "      <td>700000.0</td>\n",
       "      <td>operating</td>\n",
       "      <td>USA</td>\n",
       "      <td>2</td>\n",
       "      <td>2014</td>\n",
       "      <td>1</td>\n",
       "    </tr>\n",
       "    <tr>\n",
       "      <th>3</th>\n",
       "      <td>Curated Web</td>\n",
       "      <td>2000000.0</td>\n",
       "      <td>operating</td>\n",
       "      <td>CHN</td>\n",
       "      <td>1</td>\n",
       "      <td>2007</td>\n",
       "      <td>1</td>\n",
       "    </tr>\n",
       "    <tr>\n",
       "      <th>4</th>\n",
       "      <td>Software</td>\n",
       "      <td>0.0</td>\n",
       "      <td>operating</td>\n",
       "      <td>USA</td>\n",
       "      <td>1</td>\n",
       "      <td>2010</td>\n",
       "      <td>1</td>\n",
       "    </tr>\n",
       "    <tr>\n",
       "      <th>5</th>\n",
       "      <td>Games</td>\n",
       "      <td>41250.0</td>\n",
       "      <td>operating</td>\n",
       "      <td>HKG</td>\n",
       "      <td>1</td>\n",
       "      <td>2014</td>\n",
       "      <td>1</td>\n",
       "    </tr>\n",
       "    <tr>\n",
       "      <th>...</th>\n",
       "      <td>...</td>\n",
       "      <td>...</td>\n",
       "      <td>...</td>\n",
       "      <td>...</td>\n",
       "      <td>...</td>\n",
       "      <td>...</td>\n",
       "      <td>...</td>\n",
       "    </tr>\n",
       "    <tr>\n",
       "      <th>66361</th>\n",
       "      <td>Biotechnology</td>\n",
       "      <td>2686600.0</td>\n",
       "      <td>operating</td>\n",
       "      <td>AUT</td>\n",
       "      <td>1</td>\n",
       "      <td>2007</td>\n",
       "      <td>1</td>\n",
       "    </tr>\n",
       "    <tr>\n",
       "      <th>66362</th>\n",
       "      <td>Analytics|Android|Developer APIs|Education|Gam...</td>\n",
       "      <td>1120000.0</td>\n",
       "      <td>operating</td>\n",
       "      <td>GBR</td>\n",
       "      <td>3</td>\n",
       "      <td>2014</td>\n",
       "      <td>2</td>\n",
       "    </tr>\n",
       "    <tr>\n",
       "      <th>66363</th>\n",
       "      <td>Enterprise Software</td>\n",
       "      <td>1587301.0</td>\n",
       "      <td>operating</td>\n",
       "      <td>CHN</td>\n",
       "      <td>1</td>\n",
       "      <td>2012</td>\n",
       "      <td>1</td>\n",
       "    </tr>\n",
       "    <tr>\n",
       "      <th>66364</th>\n",
       "      <td>Advertising|Mobile|Web Development|Wireless</td>\n",
       "      <td>114304.0</td>\n",
       "      <td>operating</td>\n",
       "      <td>HRV</td>\n",
       "      <td>4</td>\n",
       "      <td>2012</td>\n",
       "      <td>4</td>\n",
       "    </tr>\n",
       "    <tr>\n",
       "      <th>66366</th>\n",
       "      <td>Consumer Electronics|Internet of Things|Teleco...</td>\n",
       "      <td>18192.0</td>\n",
       "      <td>operating</td>\n",
       "      <td>USA</td>\n",
       "      <td>1</td>\n",
       "      <td>2014</td>\n",
       "      <td>1</td>\n",
       "    </tr>\n",
       "  </tbody>\n",
       "</table>\n",
       "<p>57778 rows × 7 columns</p>\n",
       "</div>"
      ],
      "text/plain": [
       "                                           category_list  funding_total_usd  \\\n",
       "0                                                  Media         10000000.0   \n",
       "1      Application Platforms|Real Time|Social Network...           700000.0   \n",
       "3                                            Curated Web          2000000.0   \n",
       "4                                               Software                0.0   \n",
       "5                                                  Games            41250.0   \n",
       "...                                                  ...                ...   \n",
       "66361                                      Biotechnology          2686600.0   \n",
       "66362  Analytics|Android|Developer APIs|Education|Gam...          1120000.0   \n",
       "66363                                Enterprise Software          1587301.0   \n",
       "66364        Advertising|Mobile|Web Development|Wireless           114304.0   \n",
       "66366  Consumer Electronics|Internet of Things|Teleco...            18192.0   \n",
       "\n",
       "          status country_code  funding_rounds  founded_at  years_of_funding  \n",
       "0      operating          IND               1        2015                 1  \n",
       "1      operating          USA               2        2014                 1  \n",
       "3      operating          CHN               1        2007                 1  \n",
       "4      operating          USA               1        2010                 1  \n",
       "5      operating          HKG               1        2014                 1  \n",
       "...          ...          ...             ...         ...               ...  \n",
       "66361  operating          AUT               1        2007                 1  \n",
       "66362  operating          GBR               3        2014                 2  \n",
       "66363  operating          CHN               1        2012                 1  \n",
       "66364  operating          HRV               4        2012                 4  \n",
       "66366  operating          USA               1        2014                 1  \n",
       "\n",
       "[57778 rows x 7 columns]"
      ]
     },
     "execution_count": 29,
     "metadata": {},
     "output_type": "execute_result"
    }
   ],
   "source": [
    "startUps"
   ]
  },
  {
   "cell_type": "code",
   "execution_count": 30,
   "id": "51eb7061",
   "metadata": {},
   "outputs": [
    {
     "data": {
      "text/plain": [
       "['Software',\n",
       " 'Biotechnology',\n",
       " 'E-Commerce',\n",
       " 'Clean Technology',\n",
       " 'Mobile',\n",
       " 'Curated Web',\n",
       " 'Hardware + Software',\n",
       " 'Health Care',\n",
       " 'Enterprise Software',\n",
       " 'Games',\n",
       " 'Health and Wellness',\n",
       " 'Manufacturing',\n",
       " 'Advertising',\n",
       " 'Education',\n",
       " 'Semiconductors',\n",
       " 'Finance',\n",
       " 'Consulting',\n",
       " 'Real Estate',\n",
       " 'Security',\n",
       " 'Hospitality',\n",
       " 'Social Media',\n",
       " 'Web Hosting',\n",
       " 'Analytics',\n",
       " 'Fashion',\n",
       " 'Technology',\n",
       " 'Medical',\n",
       " 'Biotechnology|Health Diagnostics',\n",
       " 'Travel',\n",
       " 'Internet',\n",
       " 'News',\n",
       " 'Sports',\n",
       " 'Messaging',\n",
       " 'Music',\n",
       " 'Medical Devices',\n",
       " 'EdTech|Education',\n",
       " 'Pharmaceuticals',\n",
       " 'Public Relations',\n",
       " 'Information Technology',\n",
       " 'Entertainment|Games',\n",
       " 'Financial Services',\n",
       " 'Apps',\n",
       " 'Finance|FinTech',\n",
       " 'Automotive',\n",
       " 'Transportation',\n",
       " 'Search',\n",
       " 'Biotechnology|Health Care',\n",
       " 'Photography',\n",
       " 'Nanotechnology',\n",
       " 'Services',\n",
       " 'Nonprofits',\n",
       " 'Public Transportation',\n",
       " 'Consumer Electronics',\n",
       " 'Design',\n",
       " 'Telecommunications',\n",
       " 'Food Processing',\n",
       " 'Entertainment',\n",
       " 'Finance|Venture Capital',\n",
       " 'Media|News',\n",
       " 'Legal',\n",
       " 'Retail',\n",
       " 'Energy',\n",
       " 'Consumer Goods',\n",
       " 'Networking',\n",
       " 'E-Commerce|Fashion']"
      ]
     },
     "execution_count": 30,
     "metadata": {},
     "output_type": "execute_result"
    }
   ],
   "source": [
    "categories = pd.DataFrame(startUps.groupby('category_list')['status'].count().sort_values(ascending=False))\n",
    "topCategories = categories[categories['status'] > 50].index.tolist()\n",
    "topCategories"
   ]
  },
  {
   "cell_type": "code",
   "execution_count": 31,
   "id": "2b42828c",
   "metadata": {},
   "outputs": [],
   "source": [
    "def get_category(categories):\n",
    "    if '|' not in categories:\n",
    "        return categories\n",
    "    else:\n",
    "        return categories.split('|')[0]\n",
    "\n",
    "singleCategories = set(get_category(i) for i in topCategories)"
   ]
  },
  {
   "cell_type": "code",
   "execution_count": 32,
   "id": "e153d32b",
   "metadata": {},
   "outputs": [],
   "source": [
    "def make_single_category(categories):\n",
    "    if categories not in singleCategories:\n",
    "        if '|' not in categories:\n",
    "            return 'Other'\n",
    "        else:\n",
    "            splitUpCats = categories.split('|')\n",
    "            for i in splitUpCats:\n",
    "                if i in singleCategories:\n",
    "                    return i\n",
    "            return None\n",
    "    else:\n",
    "        return categories\n",
    "\n",
    "startUps['category_list'] = startUps['category_list'].apply(make_single_category)"
   ]
  },
  {
   "cell_type": "code",
   "execution_count": 33,
   "id": "d1a5f1f4",
   "metadata": {},
   "outputs": [
    {
     "data": {
      "text/html": [
       "<div>\n",
       "<style scoped>\n",
       "    .dataframe tbody tr th:only-of-type {\n",
       "        vertical-align: middle;\n",
       "    }\n",
       "\n",
       "    .dataframe tbody tr th {\n",
       "        vertical-align: top;\n",
       "    }\n",
       "\n",
       "    .dataframe thead th {\n",
       "        text-align: right;\n",
       "    }\n",
       "</style>\n",
       "<table border=\"1\" class=\"dataframe\">\n",
       "  <thead>\n",
       "    <tr style=\"text-align: right;\">\n",
       "      <th></th>\n",
       "      <th>status</th>\n",
       "    </tr>\n",
       "    <tr>\n",
       "      <th>category_list</th>\n",
       "      <th></th>\n",
       "    </tr>\n",
       "  </thead>\n",
       "  <tbody>\n",
       "    <tr>\n",
       "      <th>Software</th>\n",
       "      <td>5361</td>\n",
       "    </tr>\n",
       "    <tr>\n",
       "      <th>Biotechnology</th>\n",
       "      <td>4386</td>\n",
       "    </tr>\n",
       "    <tr>\n",
       "      <th>E-Commerce</th>\n",
       "      <td>3249</td>\n",
       "    </tr>\n",
       "    <tr>\n",
       "      <th>Mobile</th>\n",
       "      <td>2613</td>\n",
       "    </tr>\n",
       "    <tr>\n",
       "      <th>Curated Web</th>\n",
       "      <td>2596</td>\n",
       "    </tr>\n",
       "    <tr>\n",
       "      <th>Other</th>\n",
       "      <td>2385</td>\n",
       "    </tr>\n",
       "    <tr>\n",
       "      <th>Advertising</th>\n",
       "      <td>2315</td>\n",
       "    </tr>\n",
       "    <tr>\n",
       "      <th>Enterprise Software</th>\n",
       "      <td>2198</td>\n",
       "    </tr>\n",
       "    <tr>\n",
       "      <th>Analytics</th>\n",
       "      <td>1592</td>\n",
       "    </tr>\n",
       "    <tr>\n",
       "      <th>Health Care</th>\n",
       "      <td>1521</td>\n",
       "    </tr>\n",
       "    <tr>\n",
       "      <th>Health and Wellness</th>\n",
       "      <td>1487</td>\n",
       "    </tr>\n",
       "    <tr>\n",
       "      <th>Apps</th>\n",
       "      <td>1472</td>\n",
       "    </tr>\n",
       "    <tr>\n",
       "      <th>Games</th>\n",
       "      <td>1459</td>\n",
       "    </tr>\n",
       "    <tr>\n",
       "      <th>Clean Technology</th>\n",
       "      <td>1431</td>\n",
       "    </tr>\n",
       "    <tr>\n",
       "      <th>Finance</th>\n",
       "      <td>1373</td>\n",
       "    </tr>\n",
       "    <tr>\n",
       "      <th>Hardware + Software</th>\n",
       "      <td>1257</td>\n",
       "    </tr>\n",
       "    <tr>\n",
       "      <th>Education</th>\n",
       "      <td>1209</td>\n",
       "    </tr>\n",
       "    <tr>\n",
       "      <th>Manufacturing</th>\n",
       "      <td>1010</td>\n",
       "    </tr>\n",
       "    <tr>\n",
       "      <th>Internet</th>\n",
       "      <td>903</td>\n",
       "    </tr>\n",
       "    <tr>\n",
       "      <th>Social Media</th>\n",
       "      <td>855</td>\n",
       "    </tr>\n",
       "    <tr>\n",
       "      <th>Consulting</th>\n",
       "      <td>798</td>\n",
       "    </tr>\n",
       "    <tr>\n",
       "      <th>Security</th>\n",
       "      <td>744</td>\n",
       "    </tr>\n",
       "    <tr>\n",
       "      <th>Real Estate</th>\n",
       "      <td>662</td>\n",
       "    </tr>\n",
       "    <tr>\n",
       "      <th>Entertainment</th>\n",
       "      <td>659</td>\n",
       "    </tr>\n",
       "    <tr>\n",
       "      <th>Hospitality</th>\n",
       "      <td>600</td>\n",
       "    </tr>\n",
       "    <tr>\n",
       "      <th>Semiconductors</th>\n",
       "      <td>562</td>\n",
       "    </tr>\n",
       "    <tr>\n",
       "      <th>Information Technology</th>\n",
       "      <td>553</td>\n",
       "    </tr>\n",
       "    <tr>\n",
       "      <th>Fashion</th>\n",
       "      <td>490</td>\n",
       "    </tr>\n",
       "    <tr>\n",
       "      <th>Design</th>\n",
       "      <td>474</td>\n",
       "    </tr>\n",
       "    <tr>\n",
       "      <th>Automotive</th>\n",
       "      <td>473</td>\n",
       "    </tr>\n",
       "    <tr>\n",
       "      <th>Technology</th>\n",
       "      <td>460</td>\n",
       "    </tr>\n",
       "    <tr>\n",
       "      <th>Services</th>\n",
       "      <td>450</td>\n",
       "    </tr>\n",
       "    <tr>\n",
       "      <th>Medical</th>\n",
       "      <td>446</td>\n",
       "    </tr>\n",
       "    <tr>\n",
       "      <th>Financial Services</th>\n",
       "      <td>444</td>\n",
       "    </tr>\n",
       "    <tr>\n",
       "      <th>Messaging</th>\n",
       "      <td>444</td>\n",
       "    </tr>\n",
       "    <tr>\n",
       "      <th>Web Hosting</th>\n",
       "      <td>442</td>\n",
       "    </tr>\n",
       "    <tr>\n",
       "      <th>Travel</th>\n",
       "      <td>403</td>\n",
       "    </tr>\n",
       "    <tr>\n",
       "      <th>EdTech</th>\n",
       "      <td>398</td>\n",
       "    </tr>\n",
       "    <tr>\n",
       "      <th>Consumer Electronics</th>\n",
       "      <td>378</td>\n",
       "    </tr>\n",
       "    <tr>\n",
       "      <th>Networking</th>\n",
       "      <td>357</td>\n",
       "    </tr>\n",
       "    <tr>\n",
       "      <th>Media</th>\n",
       "      <td>349</td>\n",
       "    </tr>\n",
       "    <tr>\n",
       "      <th>Music</th>\n",
       "      <td>336</td>\n",
       "    </tr>\n",
       "    <tr>\n",
       "      <th>Consumer Goods</th>\n",
       "      <td>330</td>\n",
       "    </tr>\n",
       "    <tr>\n",
       "      <th>Search</th>\n",
       "      <td>322</td>\n",
       "    </tr>\n",
       "    <tr>\n",
       "      <th>News</th>\n",
       "      <td>307</td>\n",
       "    </tr>\n",
       "    <tr>\n",
       "      <th>Sports</th>\n",
       "      <td>283</td>\n",
       "    </tr>\n",
       "    <tr>\n",
       "      <th>Photography</th>\n",
       "      <td>244</td>\n",
       "    </tr>\n",
       "    <tr>\n",
       "      <th>Energy</th>\n",
       "      <td>233</td>\n",
       "    </tr>\n",
       "    <tr>\n",
       "      <th>Public Relations</th>\n",
       "      <td>223</td>\n",
       "    </tr>\n",
       "    <tr>\n",
       "      <th>Medical Devices</th>\n",
       "      <td>218</td>\n",
       "    </tr>\n",
       "    <tr>\n",
       "      <th>Transportation</th>\n",
       "      <td>214</td>\n",
       "    </tr>\n",
       "    <tr>\n",
       "      <th>Pharmaceuticals</th>\n",
       "      <td>178</td>\n",
       "    </tr>\n",
       "    <tr>\n",
       "      <th>Retail</th>\n",
       "      <td>177</td>\n",
       "    </tr>\n",
       "    <tr>\n",
       "      <th>Nonprofits</th>\n",
       "      <td>151</td>\n",
       "    </tr>\n",
       "    <tr>\n",
       "      <th>Legal</th>\n",
       "      <td>147</td>\n",
       "    </tr>\n",
       "    <tr>\n",
       "      <th>Telecommunications</th>\n",
       "      <td>145</td>\n",
       "    </tr>\n",
       "    <tr>\n",
       "      <th>Public Transportation</th>\n",
       "      <td>142</td>\n",
       "    </tr>\n",
       "    <tr>\n",
       "      <th>Food Processing</th>\n",
       "      <td>136</td>\n",
       "    </tr>\n",
       "    <tr>\n",
       "      <th>Nanotechnology</th>\n",
       "      <td>130</td>\n",
       "    </tr>\n",
       "  </tbody>\n",
       "</table>\n",
       "</div>"
      ],
      "text/plain": [
       "                        status\n",
       "category_list                 \n",
       "Software                  5361\n",
       "Biotechnology             4386\n",
       "E-Commerce                3249\n",
       "Mobile                    2613\n",
       "Curated Web               2596\n",
       "Other                     2385\n",
       "Advertising               2315\n",
       "Enterprise Software       2198\n",
       "Analytics                 1592\n",
       "Health Care               1521\n",
       "Health and Wellness       1487\n",
       "Apps                      1472\n",
       "Games                     1459\n",
       "Clean Technology          1431\n",
       "Finance                   1373\n",
       "Hardware + Software       1257\n",
       "Education                 1209\n",
       "Manufacturing             1010\n",
       "Internet                   903\n",
       "Social Media               855\n",
       "Consulting                 798\n",
       "Security                   744\n",
       "Real Estate                662\n",
       "Entertainment              659\n",
       "Hospitality                600\n",
       "Semiconductors             562\n",
       "Information Technology     553\n",
       "Fashion                    490\n",
       "Design                     474\n",
       "Automotive                 473\n",
       "Technology                 460\n",
       "Services                   450\n",
       "Medical                    446\n",
       "Financial Services         444\n",
       "Messaging                  444\n",
       "Web Hosting                442\n",
       "Travel                     403\n",
       "EdTech                     398\n",
       "Consumer Electronics       378\n",
       "Networking                 357\n",
       "Media                      349\n",
       "Music                      336\n",
       "Consumer Goods             330\n",
       "Search                     322\n",
       "News                       307\n",
       "Sports                     283\n",
       "Photography                244\n",
       "Energy                     233\n",
       "Public Relations           223\n",
       "Medical Devices            218\n",
       "Transportation             214\n",
       "Pharmaceuticals            178\n",
       "Retail                     177\n",
       "Nonprofits                 151\n",
       "Legal                      147\n",
       "Telecommunications         145\n",
       "Public Transportation      142\n",
       "Food Processing            136\n",
       "Nanotechnology             130"
      ]
     },
     "execution_count": 33,
     "metadata": {},
     "output_type": "execute_result"
    }
   ],
   "source": [
    "pd.DataFrame(startUps.groupby('category_list')['status'].count().sort_values(ascending=False))"
   ]
  },
  {
   "cell_type": "code",
   "execution_count": 34,
   "id": "a33474a7",
   "metadata": {},
   "outputs": [],
   "source": [
    "def success_and_fail(status):\n",
    "    if status == 'operating':\n",
    "        return status\n",
    "    elif status == 'closed':\n",
    "        return 0\n",
    "    else:\n",
    "        return 1\n",
    "    \n",
    "startUps['status'] = startUps['status'].apply(success_and_fail)"
   ]
  },
  {
   "cell_type": "code",
   "execution_count": 35,
   "id": "b5ef904e",
   "metadata": {},
   "outputs": [],
   "source": [
    "startUps['founded_at'] = startUps['founded_at'].apply(lambda year: (year - startUps['founded_at'].min())/(startUps['founded_at'].max() - startUps['founded_at'].min()))\n",
    "startUps['funding_total_usd'] = startUps['funding_total_usd'].apply(lambda funds: (funds - startUps['funding_total_usd'].min())/(startUps['funding_total_usd'].max() - startUps['funding_total_usd'].min()))\n",
    "startUps['years_of_funding'] = startUps['years_of_funding'].apply(lambda funds: (funds - startUps['years_of_funding'].min())/(startUps['years_of_funding'].max() - startUps['years_of_funding'].min()))\n",
    "startUps['funding_rounds'] = startUps['funding_rounds'].apply(lambda funds: (funds - startUps['funding_rounds'].min())/(startUps['funding_rounds'].max() - startUps['funding_rounds'].min()))"
   ]
  },
  {
   "cell_type": "code",
   "execution_count": 36,
   "id": "1b54ee98",
   "metadata": {},
   "outputs": [
    {
     "name": "stdout",
     "output_type": "stream",
     "text": [
      "<class 'pandas.core.frame.DataFrame'>\n",
      "Int64Index: 57778 entries, 0 to 66366\n",
      "Data columns (total 7 columns):\n",
      " #   Column             Non-Null Count  Dtype  \n",
      "---  ------             --------------  -----  \n",
      " 0   category_list      55174 non-null  object \n",
      " 1   funding_total_usd  57778 non-null  float64\n",
      " 2   status             57778 non-null  object \n",
      " 3   country_code       57778 non-null  string \n",
      " 4   funding_rounds     57778 non-null  float64\n",
      " 5   founded_at         57778 non-null  float64\n",
      " 6   years_of_funding   57778 non-null  float64\n",
      "dtypes: float64(4), object(2), string(1)\n",
      "memory usage: 3.5+ MB\n"
     ]
    }
   ],
   "source": [
    "startUps.info()"
   ]
  },
  {
   "cell_type": "code",
   "execution_count": 37,
   "id": "6d849bd3",
   "metadata": {},
   "outputs": [
    {
     "data": {
      "text/plain": [
       "<seaborn.axisgrid.PairGrid at 0x1eb7554c6a0>"
      ]
     },
     "execution_count": 37,
     "metadata": {},
     "output_type": "execute_result"
    },
    {
     "data": {
      "image/png": "[encoded data removed]",
      "text/plain": [
       "<Figure size 1250x1250 with 30 Axes>"
      ]
     },
     "metadata": {},
     "output_type": "display_data"
    }
   ],
   "source": [
    "sns.pairplot(startUps[startUps['status'] != 'operating'])"
   ]
  },
  {
   "cell_type": "code",
   "execution_count": 38,
   "id": "c0dfeca7",
   "metadata": {},
   "outputs": [],
   "source": [
    "startUps = pd.get_dummies(data=startUps,columns=['category_list','country_code'],prefix=['category','country'],drop_first=True)"
   ]
  },
  {
   "cell_type": "code",
   "execution_count": 39,
   "id": "9fb0e60b",
   "metadata": {},
   "outputs": [],
   "source": [
    "startUpsDevData = startUps[startUps['status'] != 'operating']"
   ]
  },
  {
   "cell_type": "code",
   "execution_count": 40,
   "id": "56af1a02",
   "metadata": {},
   "outputs": [
    {
     "data": {
      "text/html": [
       "<div>\n",
       "<style scoped>\n",
       "    .dataframe tbody tr th:only-of-type {\n",
       "        vertical-align: middle;\n",
       "    }\n",
       "\n",
       "    .dataframe tbody tr th {\n",
       "        vertical-align: top;\n",
       "    }\n",
       "\n",
       "    .dataframe thead th {\n",
       "        text-align: right;\n",
       "    }\n",
       "</style>\n",
       "<table border=\"1\" class=\"dataframe\">\n",
       "  <thead>\n",
       "    <tr style=\"text-align: right;\">\n",
       "      <th></th>\n",
       "      <th>status</th>\n",
       "    </tr>\n",
       "  </thead>\n",
       "  <tbody>\n",
       "    <tr>\n",
       "      <th>15</th>\n",
       "      <td>1</td>\n",
       "    </tr>\n",
       "    <tr>\n",
       "      <th>20</th>\n",
       "      <td>1</td>\n",
       "    </tr>\n",
       "    <tr>\n",
       "      <th>23</th>\n",
       "      <td>1</td>\n",
       "    </tr>\n",
       "    <tr>\n",
       "      <th>31</th>\n",
       "      <td>1</td>\n",
       "    </tr>\n",
       "    <tr>\n",
       "      <th>32</th>\n",
       "      <td>1</td>\n",
       "    </tr>\n",
       "    <tr>\n",
       "      <th>...</th>\n",
       "      <td>...</td>\n",
       "    </tr>\n",
       "    <tr>\n",
       "      <th>66349</th>\n",
       "      <td>1</td>\n",
       "    </tr>\n",
       "    <tr>\n",
       "      <th>66350</th>\n",
       "      <td>1</td>\n",
       "    </tr>\n",
       "    <tr>\n",
       "      <th>66352</th>\n",
       "      <td>1</td>\n",
       "    </tr>\n",
       "    <tr>\n",
       "      <th>66358</th>\n",
       "      <td>0</td>\n",
       "    </tr>\n",
       "    <tr>\n",
       "      <th>66360</th>\n",
       "      <td>1</td>\n",
       "    </tr>\n",
       "  </tbody>\n",
       "</table>\n",
       "<p>10949 rows × 1 columns</p>\n",
       "</div>"
      ],
      "text/plain": [
       "      status\n",
       "15         1\n",
       "20         1\n",
       "23         1\n",
       "31         1\n",
       "32         1\n",
       "...      ...\n",
       "66349      1\n",
       "66350      1\n",
       "66352      1\n",
       "66358      0\n",
       "66360      1\n",
       "\n",
       "[10949 rows x 1 columns]"
      ]
     },
     "execution_count": 40,
     "metadata": {},
     "output_type": "execute_result"
    }
   ],
   "source": [
    "startUpsDevData.select_dtypes(include='object')"
   ]
  },
  {
   "cell_type": "code",
   "execution_count": 41,
   "id": "60af10f7",
   "metadata": {},
   "outputs": [],
   "source": [
    "from sklearn.linear_model import LogisticRegression\n",
    "from sklearn.model_selection import train_test_split"
   ]
  },
  {
   "cell_type": "code",
   "execution_count": 42,
   "id": "0caf5c91",
   "metadata": {},
   "outputs": [],
   "source": [
    "X_train, X_test, y_train, y_test = train_test_split(startUpsDevData.drop('status',axis=1), \n",
    "                                                    startUpsDevData['status'], test_size=0.30, \n",
    "                                                    random_state=101)\n",
    "y_train = y_train.astype('int')\n",
    "y_test = y_test.astype('int')"
   ]
  },
  {
   "cell_type": "code",
   "execution_count": 43,
   "id": "27fef3e3",
   "metadata": {},
   "outputs": [
    {
     "data": {
      "text/plain": [
       "LogisticRegression(max_iter=10000)"
      ]
     },
     "execution_count": 43,
     "metadata": {},
     "output_type": "execute_result"
    }
   ],
   "source": [
    "logmodel = LogisticRegression(max_iter=10000)\n",
    "logmodel.fit(X_train,y_train)"
   ]
  },
  {
   "cell_type": "code",
   "execution_count": 44,
   "id": "9d17292d",
   "metadata": {},
   "outputs": [],
   "source": [
    "log_predictions = logmodel.predict(X_test)"
   ]
  },
  {
   "cell_type": "code",
   "execution_count": 45,
   "id": "f7419cef",
   "metadata": {},
   "outputs": [],
   "source": [
    "from sklearn.metrics import classification_report"
   ]
  },
  {
   "cell_type": "code",
   "execution_count": 46,
   "id": "e5f8815f",
   "metadata": {},
   "outputs": [
    {
     "name": "stdout",
     "output_type": "stream",
     "text": [
      "              precision    recall  f1-score   support\n",
      "\n",
      "           0       0.66      0.43      0.52      1305\n",
      "           1       0.70      0.85      0.77      1980\n",
      "\n",
      "    accuracy                           0.69      3285\n",
      "   macro avg       0.68      0.64      0.65      3285\n",
      "weighted avg       0.68      0.69      0.67      3285\n",
      "\n"
     ]
    }
   ],
   "source": [
    "print(classification_report(y_test,log_predictions))"
   ]
  },
  {
   "cell_type": "code",
   "execution_count": 47,
   "id": "6efc7fd5",
   "metadata": {},
   "outputs": [
    {
     "name": "stdout",
     "output_type": "stream",
     "text": [
      "              precision    recall  f1-score   support\n",
      "\n",
      "           0       0.62      0.34      0.44      1305\n",
      "           1       0.67      0.86      0.75      1980\n",
      "\n",
      "    accuracy                           0.65      3285\n",
      "   macro avg       0.64      0.60      0.60      3285\n",
      "weighted avg       0.65      0.65      0.63      3285\n",
      "\n"
     ]
    }
   ],
   "source": [
    "from sklearn.naive_bayes import MultinomialNB\n",
    "\n",
    "NBModel = MultinomialNB()\n",
    "NBModel.fit(X_train, y_train)\n",
    "\n",
    "NB_predictions = NBModel.predict(X_test)\n",
    "\n",
    "print(classification_report(y_test,NB_predictions))"
   ]
  },
  {
   "cell_type": "code",
   "execution_count": 48,
   "id": "a17f250d",
   "metadata": {},
   "outputs": [
    {
     "name": "stdout",
     "output_type": "stream",
     "text": [
      "              precision    recall  f1-score   support\n",
      "\n",
      "           0       0.66      0.48      0.55      1305\n",
      "           1       0.71      0.84      0.77      1980\n",
      "\n",
      "    accuracy                           0.69      3285\n",
      "   macro avg       0.68      0.66      0.66      3285\n",
      "weighted avg       0.69      0.69      0.68      3285\n",
      "\n"
     ]
    }
   ],
   "source": [
    "from sklearn.svm import LinearSVC\n",
    "\n",
    "SVMModel = LinearSVC(C = 1)\n",
    "SVMModel.fit(X_train,y_train)\n",
    "\n",
    "SVM_predictions = SVMModel.predict(X_test)\n",
    "\n",
    "print(classification_report(y_test,SVM_predictions))"
   ]
  },
  {
   "cell_type": "code",
   "execution_count": 49,
   "id": "72b27a7b",
   "metadata": {},
   "outputs": [
    {
     "name": "stdout",
     "output_type": "stream",
     "text": [
      "              precision    recall  f1-score   support\n",
      "\n",
      "           0       0.68      0.51      0.59      1305\n",
      "           1       0.73      0.84      0.78      1980\n",
      "\n",
      "    accuracy                           0.71      3285\n",
      "   macro avg       0.70      0.68      0.68      3285\n",
      "weighted avg       0.71      0.71      0.70      3285\n",
      "\n"
     ]
    }
   ],
   "source": [
    "from sklearn.ensemble import RandomForestClassifier\n",
    "\n",
    "RFModel = RandomForestClassifier(n_estimators = 50, max_depth = 10)\n",
    "RFModel.fit(X_train,y_train)\n",
    "\n",
    "RF_predictions = RFModel.predict(X_test)\n",
    "\n",
    "print(classification_report(y_test,RF_predictions))"
   ]
  }
 ],
 "metadata": {
  "kernelspec": {
   "display_name": "Python 3 (ipykernel)",
   "language": "python",
   "name": "python3"
  },
  "language_info": {
   "codemirror_mode": {
    "name": "ipython",
    "version": 3
   },
   "file_extension": ".py",
   "mimetype": "text/x-python",
   "name": "python",
   "nbconvert_exporter": "python",
   "pygments_lexer": "ipython3",
   "version": "3.9.13"
  }
 },
 "nbformat": 4,
 "nbformat_minor": 5
}
